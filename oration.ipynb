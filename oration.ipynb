{
 "cells": [
  {
   "cell_type": "code",
   "execution_count": 1,
   "metadata": {},
   "outputs": [
    {
     "name": "stdout",
     "output_type": "stream",
     "text": [
      "Welcome, Adam Taylor!\n",
      "\n"
     ]
    }
   ],
   "source": [
    "import re\n",
    "import pandas as pd\n",
    "import math\n",
    "\n",
    "from google.cloud import bigquery\n",
    "bigquery_client = bigquery.Client()\n",
    "\n",
    "import synapseclient\n",
    "syn = synapseclient.Synapse()\n",
    "syn.login()"
   ]
  },
  {
   "cell_type": "code",
   "execution_count": 2,
   "metadata": {},
   "outputs": [],
   "source": [
    "test_synid = 'syn24829433'"
   ]
  },
  {
   "cell_type": "code",
   "execution_count": 3,
   "metadata": {},
   "outputs": [],
   "source": [
    "#D Define some helper functions\n",
    "\n",
    "def days_to_age (days):\n",
    "    age = math.floor(int(days)/365)\n",
    "    return(age)\n",
    "\n",
    "days_to_age(10000)\n",
    "\n",
    "from math import log, floor\n",
    "\n",
    "\n",
    "def human_format(number):\n",
    "    units = ['', 'K', 'M', 'G', 'T', 'P']\n",
    "    k = 1000.0\n",
    "    magnitude = int(floor(log(number, k)))\n",
    "    return '%.2f%s' % (number / k**magnitude, units[magnitude])\n",
    "\n",
    "def first_lower(s):\n",
    "    if not s: # Added to handle case where s == None\n",
    "        return \n",
    "    else:\n",
    "        return s[0].lower() + s[1:]"
   ]
  },
  {
   "cell_type": "code",
   "execution_count": 8,
   "metadata": {},
   "outputs": [],
   "source": [
    "# Define our main orration function\n",
    "\n",
    "def orate(synid: str):\n",
    "    '''Takes a Synapse ID of a HTAN Data File and returns a natural language description of the dataset'''\n",
    "    # Get annotations\n",
    "    annotations = syn.get_annotations(test_synid)\n",
    "\n",
    "    pixels = int(annotations['SizeX'][0])*int(annotations['SizeY'][0])*int(annotations['SizeZ'][0])\n",
    "\n",
    "    # Get biospecimen information\n",
    "    biospecimen_id = annotations['HTANParentBiospecimenID'][0]\n",
    "    print(f'Getting parent biospecimen information from {biospecimen_id}')\n",
    "\n",
    "    biospecimen_query = f\"\"\"\n",
    "    SELECT * FROM `htan-dcc.combined_assays.Biospecimen`\n",
    "    WHERE HTAN_Biospecimen_ID = '{biospecimen_id}'\n",
    "    \"\"\"\n",
    "\n",
    "    biospecimen = bigquery_client.query(biospecimen_query).to_dataframe().to_dict()\n",
    "\n",
    "\n",
    "    # Extract particpant ID\n",
    "    participant_id = re.match('HTA\\d+\\_\\d+', biospecimen_id).group(0)\n",
    "\n",
    "\n",
    "    # Get demographics information\n",
    "    print(f'Getting demographics information from {participant_id}')\n",
    "\n",
    "    demographics_query = f\"\"\"\n",
    "    SELECT * FROM `htan-dcc.combined_assays.Demographics`\n",
    "    WHERE HTAN_Participant_Id = '{participant_id}'\n",
    "    \"\"\"\n",
    "\n",
    "    demographics = bigquery_client.query(demographics_query).to_dataframe().to_dict()\n",
    "\n",
    "\n",
    "    # Get diagnosis information\n",
    "\n",
    "    print(f'Getting diagnosis information from {participant_id}')\n",
    "\n",
    "    diagnosis_query = f\"\"\"\n",
    "    SELECT * FROM `htan-dcc.combined_assays.Diagnosis`\n",
    "    WHERE HTAN_Participant_Id = '{participant_id}'\n",
    "    \"\"\"\n",
    "\n",
    "    diagnosis = bigquery_client.query(diagnosis_query).to_dataframe().to_dict()\n",
    "\n",
    "    oration =  (\n",
    "        f\"{annotations['HTANDataFileID'][0]} is a {annotations['ImagingAssayType'][0]} image of a {first_lower(biospecimen['Acquisition_Method_Type'][0])} \"\n",
    "        f\"(Biospecimen {biospecimen_id}) \"\n",
    "        f\"from a {days_to_age(biospecimen['Collection_Days_from_Index'][0])} {demographics['Gender'][0]} \"\n",
    "        f\"(Participant {participant_id}) \"\n",
    "        f\"diagnosed with {first_lower(diagnosis['Primary_Diagnosis'][0])}. \"\n",
    "        f\"The image contains {annotations['SizeC'][0]} channels, approximately {human_format(pixels)} pixels, and measures \"\n",
    "        f\"{math.ceil(int(annotations['SizeX'][0])*float(annotations['PhysicalSizeX'][0]))} {annotations['PhysicalSizeXUnit'][0]} wide \"\n",
    "        f\"by {math.ceil(int(annotations['SizeY'][0])*float(annotations['PhysicalSizeY'][0]))} {annotations['PhysicalSizeYUnit'][0]} high\"\n",
    "\n",
    "    )\n",
    "    return(oration)\n"
   ]
  },
  {
   "cell_type": "code",
   "execution_count": 9,
   "metadata": {},
   "outputs": [
    {
     "name": "stdout",
     "output_type": "stream",
     "text": [
      "Getting parent biospecimen information from HTA9_1_17\n",
      "Getting demographics information from HTA9_1\n",
      "Getting diagnosis information from HTA9_1\n"
     ]
    },
    {
     "data": {
      "text/plain": [
       "'HTA9_1_19362 is a mIHC image of a biopsy (Biospecimen HTA9_1_17) from a 70 female (Participant HTA9_1) diagnosed with infiltrating duct carcinoma NOS. The image contains 12 channels, approximately 8.96M pixels, and measures 1939 µm wide by 1157 µm high'"
      ]
     },
     "execution_count": 9,
     "metadata": {},
     "output_type": "execute_result"
    }
   ],
   "source": [
    "orate(test_synid)"
   ]
  },
  {
   "cell_type": "code",
   "execution_count": null,
   "metadata": {},
   "outputs": [],
   "source": []
  }
 ],
 "metadata": {
  "kernelspec": {
   "display_name": "htan-orator",
   "language": "python",
   "name": "python3"
  },
  "language_info": {
   "codemirror_mode": {
    "name": "ipython",
    "version": 3
   },
   "file_extension": ".py",
   "mimetype": "text/x-python",
   "name": "python",
   "nbconvert_exporter": "python",
   "pygments_lexer": "ipython3",
   "version": "3.11.0"
  },
  "orig_nbformat": 4,
  "vscode": {
   "interpreter": {
    "hash": "10d4d4306aea65750b279da7af9387ab47755fe24d70f6232fd8ef267fd2eb45"
   }
  }
 },
 "nbformat": 4,
 "nbformat_minor": 2
}
